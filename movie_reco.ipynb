{
 "cells": [
  {
   "cell_type": "code",
   "execution_count": 1,
   "id": "f67bf0f5",
   "metadata": {},
   "outputs": [],
   "source": [
    "# importing libraries\n",
    "import numpy as np\n",
    "import pandas as pd"
   ]
  },
  {
   "cell_type": "code",
   "execution_count": 2,
   "id": "3b12d75f",
   "metadata": {},
   "outputs": [],
   "source": [
    "# reading datasets\n",
    "credits_df = pd.read_csv(\"credits.csv\")\n",
    "movies_df = pd.read_csv(\"movies.csv\")\n",
    "\n",
    "# combine both datasets together\n",
    "movies_df = movies_df.merge(credits_df, on=\"title\")\n",
    "\n",
    "# dropping columns\n",
    "movies_df = movies_df[[\"movie_id\", \"title\", \"overview\", \"genres\", \"keywords\", \"cast\", \"crew\"]]"
   ]
  },
  {
   "cell_type": "code",
   "execution_count": 3,
   "id": "cd9fd548",
   "metadata": {},
   "outputs": [],
   "source": [
    "# remove na rows\n",
    "movies_df.dropna(inplace = True)"
   ]
  },
  {
   "cell_type": "code",
   "execution_count": 4,
   "id": "8ce0ea2c",
   "metadata": {},
   "outputs": [
    {
     "data": {
      "text/plain": [
       "'[{\"id\": 28, \"name\": \"Action\"}, {\"id\": 12, \"name\": \"Adventure\"}, {\"id\": 14, \"name\": \"Fantasy\"}, {\"id\": 878, \"name\": \"Science Fiction\"}]'"
      ]
     },
     "execution_count": 4,
     "metadata": {},
     "output_type": "execute_result"
    }
   ],
   "source": [
    "# checking the genre column\n",
    "movies_df.iloc[0].genres"
   ]
  },
  {
   "cell_type": "code",
   "execution_count": 5,
   "id": "b4854416",
   "metadata": {
    "scrolled": true
   },
   "outputs": [
    {
     "data": {
      "text/plain": [
       "'[{\"id\": 1463, \"name\": \"culture clash\"}, {\"id\": 2964, \"name\": \"future\"}, {\"id\": 3386, \"name\": \"space war\"}, {\"id\": 3388, \"name\": \"space colony\"}, {\"id\": 3679, \"name\": \"society\"}, {\"id\": 3801, \"name\": \"space travel\"}, {\"id\": 9685, \"name\": \"futuristic\"}, {\"id\": 9840, \"name\": \"romance\"}, {\"id\": 9882, \"name\": \"space\"}, {\"id\": 9951, \"name\": \"alien\"}, {\"id\": 10148, \"name\": \"tribe\"}, {\"id\": 10158, \"name\": \"alien planet\"}, {\"id\": 10987, \"name\": \"cgi\"}, {\"id\": 11399, \"name\": \"marine\"}, {\"id\": 13065, \"name\": \"soldier\"}, {\"id\": 14643, \"name\": \"battle\"}, {\"id\": 14720, \"name\": \"love affair\"}, {\"id\": 165431, \"name\": \"anti war\"}, {\"id\": 193554, \"name\": \"power relations\"}, {\"id\": 206690, \"name\": \"mind and soul\"}, {\"id\": 209714, \"name\": \"3d\"}]'"
      ]
     },
     "execution_count": 5,
     "metadata": {},
     "output_type": "execute_result"
    }
   ],
   "source": [
    "# checking the keywords column\n",
    "movies_df.iloc[0].keywords"
   ]
  },
  {
   "cell_type": "code",
   "execution_count": 6,
   "id": "b5de232c",
   "metadata": {
    "scrolled": false
   },
   "outputs": [],
   "source": [
    "# abstract syntax tree\n",
    "import ast"
   ]
  },
  {
   "cell_type": "code",
   "execution_count": 7,
   "id": "b2824a99",
   "metadata": {},
   "outputs": [],
   "source": [
    "# define function to convert the genres and keyword columns to only contain the name, in a string/list form, not dict\n",
    "def convert(obj):\n",
    "    list = []\n",
    "    for i in ast.literal_eval(obj):\n",
    "        list.append(i[\"name\"])\n",
    "    return list"
   ]
  },
  {
   "cell_type": "code",
   "execution_count": 8,
   "id": "347a0e0e",
   "metadata": {},
   "outputs": [],
   "source": [
    "# converting the columns\n",
    "movies_df[\"genres\"] = movies_df[\"genres\"].apply(convert)\n",
    "movies_df[\"keywords\"] = movies_df[\"keywords\"].apply(convert)"
   ]
  },
  {
   "cell_type": "code",
   "execution_count": 9,
   "id": "4369f92d",
   "metadata": {},
   "outputs": [],
   "source": [
    "# define function to convert the cast columns : only display the top 3 casts\n",
    "def convert_cast(obj):\n",
    "    list = []\n",
    "    counter = 0\n",
    "    for i in ast.literal_eval(obj):\n",
    "        if counter != 3:\n",
    "            list.append(i[\"name\"])\n",
    "        else:\n",
    "            break\n",
    "            \n",
    "    return list"
   ]
  },
  {
   "cell_type": "code",
   "execution_count": 10,
   "id": "d60dc015",
   "metadata": {},
   "outputs": [],
   "source": [
    "# convert the cast column\n",
    "movies_df[\"cast\"] = movies_df[\"cast\"].apply(convert_cast)"
   ]
  },
  {
   "cell_type": "code",
   "execution_count": 11,
   "id": "cbb21963",
   "metadata": {},
   "outputs": [],
   "source": [
    "# define function to convert crew column : we only want to keep the name of the crew who is a director\n",
    "def convert_crew(obj):\n",
    "    list = []\n",
    "    for i in ast.literal_eval(obj):\n",
    "        if i['job'] == \"Director\":\n",
    "            list.append(i[\"name\"])\n",
    "            break\n",
    "            \n",
    "    return list"
   ]
  },
  {
   "cell_type": "code",
   "execution_count": 12,
   "id": "08801171",
   "metadata": {},
   "outputs": [],
   "source": [
    "# convert the crew column\n",
    "movies_df[\"crew\"] = movies_df[\"crew\"].apply(convert_crew)"
   ]
  },
  {
   "cell_type": "code",
   "execution_count": 13,
   "id": "abf35b1a",
   "metadata": {},
   "outputs": [],
   "source": [
    "# separate the overview sentences into elements in a list\n",
    "movies_df['overview'] = movies_df['overview'].apply(lambda x : x.split())"
   ]
  },
  {
   "cell_type": "code",
   "execution_count": 14,
   "id": "21a4a128",
   "metadata": {},
   "outputs": [],
   "source": [
    "# remove spacing between words in the same element\n",
    "movies_df['genres'] = movies_df['genres'].apply(lambda x :[i.replace(\" \", \"\") for i in x])\n",
    "movies_df['keywords'] = movies_df['keywords'].apply(lambda x :[i.replace(\" \", \"\") for i in x])\n",
    "movies_df['cast'] = movies_df['cast'].apply(lambda x :[i.replace(\" \", \"\") for i in x])\n",
    "movies_df['crew'] = movies_df['crew'].apply(lambda x :[i.replace(\" \", \"\") for i in x])"
   ]
  },
  {
   "cell_type": "code",
   "execution_count": 15,
   "id": "99f026ad",
   "metadata": {
    "scrolled": false
   },
   "outputs": [],
   "source": [
    "# create new column by adding the columns together\n",
    "movies_df['tags'] = movies_df['overview']+movies_df['genres']+movies_df['keywords']+movies_df['cast']+movies_df['crew']\n",
    "movies_df['tags'] = movies_df['tags'].apply(lambda x : \" \".join(x))\n",
    "movies_df['tags'] = movies_df['tags'].apply(lambda x : x.lower())\n",
    "# movies_df['title'] = movies_df['title'].apply(lambda x : x.lower())"
   ]
  },
  {
   "cell_type": "code",
   "execution_count": 16,
   "id": "677cf1e0",
   "metadata": {},
   "outputs": [],
   "source": [
    "# create a df for genres to get list of all genres\n",
    "genres_df = pd.DataFrame(movies_df['genres'])\n",
    "genres_set = set()\n",
    "for genres_list in genres_df['genres']:\n",
    "    genres_set.update(genres_list)\n",
    "\n",
    "genres = list(genres_set)"
   ]
  },
  {
   "cell_type": "code",
   "execution_count": 17,
   "id": "5df013ce",
   "metadata": {},
   "outputs": [],
   "source": [
    "genres_dict = {\n",
    "    'Crime': '🕵️‍♂️',\n",
    "    'Action': '💥',\n",
    "    'Western': '🤠',\n",
    "    'Mystery': '🔍',\n",
    "    'Foreign': '🌍',\n",
    "    'War': '⚔️',\n",
    "    'ScienceFiction': '🚀',\n",
    "    'Documentary': '📹',\n",
    "    'Romance': '💕',\n",
    "    'Fantasy': '🧙‍♂️',\n",
    "    'Music': '🎵',\n",
    "    'History': '📜',\n",
    "    'Thriller': '🎬',\n",
    "    'Adventure': '🌄',\n",
    "    'Horror': '👻',\n",
    "    'Family': '👨‍👩‍👧‍👦',\n",
    "    'Comedy': '😂',\n",
    "    'TVMovie': '📺',\n",
    "    'Drama': '🎭',\n",
    "    'Animation': '🎞️'\n",
    "}"
   ]
  },
  {
   "cell_type": "code",
   "execution_count": 18,
   "id": "2d9a792b",
   "metadata": {},
   "outputs": [],
   "source": [
    "# dropping all the duplicated columns\n",
    "new_df = movies_df[['movie_id', 'title', 'tags']]"
   ]
  },
  {
   "cell_type": "code",
   "execution_count": 19,
   "id": "d63790b7",
   "metadata": {},
   "outputs": [],
   "source": [
    "from sklearn.feature_extraction.text import CountVectorizer\n",
    "cv = CountVectorizer(max_features = 5000, stop_words = \"english\")\n",
    "# transforming the tags column to an array recognisable by machine \n",
    "vectors = cv.fit_transform(new_df['tags']).toarray()"
   ]
  },
  {
   "cell_type": "code",
   "execution_count": 20,
   "id": "ce913ce4",
   "metadata": {},
   "outputs": [],
   "source": [
    "import nltk\n",
    "from nltk.stem.porter import PorterStemmer\n",
    "ps = PorterStemmer()"
   ]
  },
  {
   "cell_type": "code",
   "execution_count": 21,
   "id": "977689b3",
   "metadata": {},
   "outputs": [],
   "source": [
    "# define the stem method to reduce all the words in the tag column into their root word, using the stem method from ps\n",
    "def stem(text):\n",
    "    y = []\n",
    "    for i in text.split():\n",
    "        y.append(ps.stem(i))\n",
    "    return \" \".join(y)"
   ]
  },
  {
   "cell_type": "code",
   "execution_count": 22,
   "id": "adb08865",
   "metadata": {},
   "outputs": [
    {
     "name": "stderr",
     "output_type": "stream",
     "text": [
      "/var/folders/0r/ynlpb1xx2mz3qlbhfqx5f42m0000gn/T/ipykernel_44893/3213734980.py:1: SettingWithCopyWarning: \n",
      "A value is trying to be set on a copy of a slice from a DataFrame.\n",
      "Try using .loc[row_indexer,col_indexer] = value instead\n",
      "\n",
      "See the caveats in the documentation: https://pandas.pydata.org/pandas-docs/stable/user_guide/indexing.html#returning-a-view-versus-a-copy\n",
      "  new_df['tags'] = new_df['tags'].apply(stem)\n"
     ]
    }
   ],
   "source": [
    "new_df['tags'] = new_df['tags'].apply(stem)"
   ]
  },
  {
   "cell_type": "code",
   "execution_count": 23,
   "id": "b40f5fcd",
   "metadata": {},
   "outputs": [],
   "source": [
    "from sklearn.metrics.pairwise import cosine_similarity"
   ]
  },
  {
   "cell_type": "code",
   "execution_count": 24,
   "id": "837ddc90",
   "metadata": {},
   "outputs": [],
   "source": [
    "similarity = cosine_similarity(vectors)"
   ]
  },
  {
   "cell_type": "code",
   "execution_count": 25,
   "id": "5fe26330",
   "metadata": {},
   "outputs": [],
   "source": [
    "# create the recommendation system\n",
    "def recommend(movie):\n",
    "    try:\n",
    "        # finding the location of the input movie\n",
    "        movie_index = new_df[new_df['title'].str.lower() == movie.lower()].index[0]\n",
    "        # extract the vector representing the input movie in the similarity matrix\n",
    "        # this vector represent the similarity score of all the other movies as compared to the input movie\n",
    "        distances = similarity[movie_index]\n",
    "        # sort and get the top 6\n",
    "        movies_list = sorted(list(enumerate(distances)), reverse=True, key=lambda x: x[1])[1:6]\n",
    "        \n",
    "        recommendations = []\n",
    "        for i in movies_list:\n",
    "            recommendations.append(new_df.iloc[i[0]].title)\n",
    "        \n",
    "        return recommendations\n",
    "    except IndexError:\n",
    "        return []"
   ]
  },
  {
   "cell_type": "code",
   "execution_count": 26,
   "id": "9cc8acfe",
   "metadata": {},
   "outputs": [],
   "source": [
    "# get genres\n",
    "def get_genre(movie):\n",
    "    genres_list = movies_df[movies_df['title'] == movie]['genres']\n",
    "    if not genres_list.empty:\n",
    "        genres = genres_list.iloc[0]\n",
    "        emojis = \"\"\n",
    "        for genre in genres:\n",
    "            emoji = genres_dict.get(genre)\n",
    "            if emoji:\n",
    "                emojis += emoji\n",
    "        return emojis\n",
    "    else:\n",
    "        return \"\""
   ]
  },
  {
   "cell_type": "code",
   "execution_count": 27,
   "id": "ef259276",
   "metadata": {},
   "outputs": [],
   "source": [
    "from telegram import Update, ForceReply\n",
    "from telegram.ext import Application, CommandHandler, MessageHandler, filters, CallbackContext\n",
    "import logging\n",
    "import nest_asyncio\n",
    "import asyncio"
   ]
  },
  {
   "cell_type": "code",
   "execution_count": 28,
   "id": "006313ea",
   "metadata": {},
   "outputs": [],
   "source": [
    "async def start(update: Update, context: CallbackContext):\n",
    "    user = update.effective_user\n",
    "    await update.message.reply_html(\n",
    "        rf\"Hi {user.mention_html()}! I am your movie recommendation bot. Type the name of a movie to get recommendations.\",\n",
    "        reply_markup=ForceReply(selective=True),\n",
    "    )\n"
   ]
  },
  {
   "cell_type": "code",
   "execution_count": 29,
   "id": "9c64b6ac",
   "metadata": {},
   "outputs": [],
   "source": [
    "async def recommend_movie(update: Update, context: CallbackContext):\n",
    "    user_input = update.message.text\n",
    "    recommendations = recommend(user_input)\n",
    "    if len(recommendations) > 1:\n",
    "        emoji = get_genre(user_input)\n",
    "        response = f\"Here are some recommendations for <b>{user_input}</b> {emoji}:\\n\"\n",
    "        for i, movie in enumerate(recommendations, start=1):\n",
    "            emoji_indiv = get_genre(movie)[0]\n",
    "            response += f\"{i}. {movie} {emoji_indiv}\\n\"\n",
    "    else:\n",
    "        response = f\"Sorry, your movie <b>{user_input}</b> was not found in our database.. Make sure that your capitalisations and punctuations are correct\"\n",
    "    await update.message.reply_text(response, parse_mode='HTML')"
   ]
  },
  {
   "cell_type": "code",
   "execution_count": 30,
   "id": "d606b626",
   "metadata": {},
   "outputs": [],
   "source": [
    "async def main():\n",
    "    application = Application.builder().token(\"7171834170:AAHG4h8PpdXmJ1JWatUC1vZR-9c7K1zD26E\").build()\n",
    "\n",
    "    # Register command handlers\n",
    "    application.add_handler(CommandHandler(\"start\", start))\n",
    "    application.add_handler(MessageHandler(filters.TEXT & ~filters.COMMAND, recommend_movie))\n",
    "\n",
    "    # Start the bot\n",
    "    await application.run_polling()"
   ]
  },
  {
   "cell_type": "code",
   "execution_count": null,
   "id": "bc8c6490",
   "metadata": {},
   "outputs": [],
   "source": [
    "import nest_asyncio\n",
    "import asyncio\n",
    "if __name__ == \"__main__\":\n",
    "    import nest_asyncio\n",
    "    nest_asyncio.apply()\n",
    "    asyncio.run(main())"
   ]
  }
 ],
 "metadata": {
  "kernelspec": {
   "display_name": "Python 3 (ipykernel)",
   "language": "python",
   "name": "python3"
  },
  "language_info": {
   "codemirror_mode": {
    "name": "ipython",
    "version": 3
   },
   "file_extension": ".py",
   "mimetype": "text/x-python",
   "name": "python",
   "nbconvert_exporter": "python",
   "pygments_lexer": "ipython3",
   "version": "3.9.13"
  }
 },
 "nbformat": 4,
 "nbformat_minor": 5
}
